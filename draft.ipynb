{
 "cells": [
  {
   "cell_type": "code",
   "execution_count": 1,
   "metadata": {},
   "outputs": [],
   "source": [
    "# Title: Contact models for atomic force microscopy\n",
    "# Author: J. P. S. Ferreira\n",
    "# Date: 2023-01-17\n",
    "# Description: This notebook is a draft for a work on contact models for atomic force microscopy. It is a work in progress.\n",
    "# Literature: \n",
    "# https://www.sciencedirect.com/science/article/pii/S0968432822000245\n",
    "# https://bmcbioinformatics.biomedcentral.com/articles/10.1186/s12859-019-3010-3\n",
    "# License: MIT"
   ]
  },
  {
   "cell_type": "code",
   "execution_count": 60,
   "metadata": {},
   "outputs": [],
   "source": [
    "import numpy as np\n",
    "import pandas as pd\n",
    "import matplotlib.pyplot as plt\n",
    "import seaborn as sns"
   ]
  },
  {
   "cell_type": "code",
   "execution_count": 70,
   "metadata": {},
   "outputs": [],
   "source": [
    "def hertz(i, E, nu, r):\n",
    "    \"\"\"Hertz model for indentation.\n",
    "    \n",
    "    approximation for parabolic indenter.\n",
    "    Parameters\n",
    "    ----------\n",
    "    i : float\n",
    "        Indentation depth.\n",
    "    E : float\n",
    "        Young's modulus.\n",
    "    nu : float\n",
    "        Poisson's ratio.\n",
    "    R : float\n",
    "        Radius of the indenter.\n",
    "        \n",
    "    Returns\n",
    "    -------\n",
    "    float\n",
    "        Contact force.\n",
    "    \"\"\"\n",
    "    a = i/r\n",
    "    factor = 1 - 0.1 * a - (1/840) * a**2 + (11/15120) * a**3 + (1357/6652800) * a**4\n",
    "    force = 4/3 * E / (1 - nu**2) * np.sqrt(r)*i**1.5 * factor\n",
    "    # make nan values zero\n",
    "    force[np.isnan(force)] = 0\n",
    "    return force"
   ]
  },
  {
   "cell_type": "code",
   "execution_count": 87,
   "metadata": {},
   "outputs": [],
   "source": [
    "E = np.random.normal(loc=1.0, scale=0.1, size=1000)\n",
    "nu = 0.5\n",
    "r = 1.0\n",
    "i = np.linspace(-10, 5, 100)\n",
    "#\n",
    "df = pd.DataFrame()\n",
    "df['E'] = E.tolist()\n",
    "df['ind'] = [i for _ in range(len(df))]\n",
    "# f = hertz_vec(i, E, nu, r)\n",
    "#plt.plot(i, f)"
   ]
  },
  {
   "cell_type": "code",
   "execution_count": 90,
   "metadata": {},
   "outputs": [
    {
     "name": "stderr",
     "output_type": "stream",
     "text": [
      "/var/folders/x7/wn0m19s14b134p11_cy_rn540000gn/T/ipykernel_27983/1411104662.py:23: RuntimeWarning: invalid value encountered in power\n",
      "  force = 4/3 * E / (1 - nu**2) * np.sqrt(r)*i**1.5 * factor\n"
     ]
    }
   ],
   "source": [
    "df['force']=df.apply(lambda x: hertz(x['ind'], x['E'], nu, r), axis=1)"
   ]
  },
  {
   "cell_type": "code",
   "execution_count": 91,
   "metadata": {},
   "outputs": [
    {
     "data": {
      "text/html": [
       "<div>\n",
       "<style scoped>\n",
       "    .dataframe tbody tr th:only-of-type {\n",
       "        vertical-align: middle;\n",
       "    }\n",
       "\n",
       "    .dataframe tbody tr th {\n",
       "        vertical-align: top;\n",
       "    }\n",
       "\n",
       "    .dataframe thead th {\n",
       "        text-align: right;\n",
       "    }\n",
       "</style>\n",
       "<table border=\"1\" class=\"dataframe\">\n",
       "  <thead>\n",
       "    <tr style=\"text-align: right;\">\n",
       "      <th></th>\n",
       "      <th>E</th>\n",
       "      <th>ind</th>\n",
       "      <th>force</th>\n",
       "    </tr>\n",
       "  </thead>\n",
       "  <tbody>\n",
       "    <tr>\n",
       "      <th>0</th>\n",
       "      <td>1.003179</td>\n",
       "      <td>[-10.0, -9.848484848484848, -9.696969696969697...</td>\n",
       "      <td>[0.0, 0.0, 0.0, 0.0, 0.0, 0.0, 0.0, 0.0, 0.0, ...</td>\n",
       "    </tr>\n",
       "    <tr>\n",
       "      <th>1</th>\n",
       "      <td>1.085034</td>\n",
       "      <td>[-10.0, -9.848484848484848, -9.696969696969697...</td>\n",
       "      <td>[0.0, 0.0, 0.0, 0.0, 0.0, 0.0, 0.0, 0.0, 0.0, ...</td>\n",
       "    </tr>\n",
       "    <tr>\n",
       "      <th>2</th>\n",
       "      <td>1.095834</td>\n",
       "      <td>[-10.0, -9.848484848484848, -9.696969696969697...</td>\n",
       "      <td>[0.0, 0.0, 0.0, 0.0, 0.0, 0.0, 0.0, 0.0, 0.0, ...</td>\n",
       "    </tr>\n",
       "    <tr>\n",
       "      <th>3</th>\n",
       "      <td>0.971437</td>\n",
       "      <td>[-10.0, -9.848484848484848, -9.696969696969697...</td>\n",
       "      <td>[0.0, 0.0, 0.0, 0.0, 0.0, 0.0, 0.0, 0.0, 0.0, ...</td>\n",
       "    </tr>\n",
       "    <tr>\n",
       "      <th>4</th>\n",
       "      <td>1.000788</td>\n",
       "      <td>[-10.0, -9.848484848484848, -9.696969696969697...</td>\n",
       "      <td>[0.0, 0.0, 0.0, 0.0, 0.0, 0.0, 0.0, 0.0, 0.0, ...</td>\n",
       "    </tr>\n",
       "    <tr>\n",
       "      <th>...</th>\n",
       "      <td>...</td>\n",
       "      <td>...</td>\n",
       "      <td>...</td>\n",
       "    </tr>\n",
       "    <tr>\n",
       "      <th>995</th>\n",
       "      <td>0.922010</td>\n",
       "      <td>[-10.0, -9.848484848484848, -9.696969696969697...</td>\n",
       "      <td>[0.0, 0.0, 0.0, 0.0, 0.0, 0.0, 0.0, 0.0, 0.0, ...</td>\n",
       "    </tr>\n",
       "    <tr>\n",
       "      <th>996</th>\n",
       "      <td>0.970304</td>\n",
       "      <td>[-10.0, -9.848484848484848, -9.696969696969697...</td>\n",
       "      <td>[0.0, 0.0, 0.0, 0.0, 0.0, 0.0, 0.0, 0.0, 0.0, ...</td>\n",
       "    </tr>\n",
       "    <tr>\n",
       "      <th>997</th>\n",
       "      <td>0.936058</td>\n",
       "      <td>[-10.0, -9.848484848484848, -9.696969696969697...</td>\n",
       "      <td>[0.0, 0.0, 0.0, 0.0, 0.0, 0.0, 0.0, 0.0, 0.0, ...</td>\n",
       "    </tr>\n",
       "    <tr>\n",
       "      <th>998</th>\n",
       "      <td>1.006863</td>\n",
       "      <td>[-10.0, -9.848484848484848, -9.696969696969697...</td>\n",
       "      <td>[0.0, 0.0, 0.0, 0.0, 0.0, 0.0, 0.0, 0.0, 0.0, ...</td>\n",
       "    </tr>\n",
       "    <tr>\n",
       "      <th>999</th>\n",
       "      <td>1.035264</td>\n",
       "      <td>[-10.0, -9.848484848484848, -9.696969696969697...</td>\n",
       "      <td>[0.0, 0.0, 0.0, 0.0, 0.0, 0.0, 0.0, 0.0, 0.0, ...</td>\n",
       "    </tr>\n",
       "  </tbody>\n",
       "</table>\n",
       "<p>1000 rows × 3 columns</p>\n",
       "</div>"
      ],
      "text/plain": [
       "            E                                                ind  \\\n",
       "0    1.003179  [-10.0, -9.848484848484848, -9.696969696969697...   \n",
       "1    1.085034  [-10.0, -9.848484848484848, -9.696969696969697...   \n",
       "2    1.095834  [-10.0, -9.848484848484848, -9.696969696969697...   \n",
       "3    0.971437  [-10.0, -9.848484848484848, -9.696969696969697...   \n",
       "4    1.000788  [-10.0, -9.848484848484848, -9.696969696969697...   \n",
       "..        ...                                                ...   \n",
       "995  0.922010  [-10.0, -9.848484848484848, -9.696969696969697...   \n",
       "996  0.970304  [-10.0, -9.848484848484848, -9.696969696969697...   \n",
       "997  0.936058  [-10.0, -9.848484848484848, -9.696969696969697...   \n",
       "998  1.006863  [-10.0, -9.848484848484848, -9.696969696969697...   \n",
       "999  1.035264  [-10.0, -9.848484848484848, -9.696969696969697...   \n",
       "\n",
       "                                                 force  \n",
       "0    [0.0, 0.0, 0.0, 0.0, 0.0, 0.0, 0.0, 0.0, 0.0, ...  \n",
       "1    [0.0, 0.0, 0.0, 0.0, 0.0, 0.0, 0.0, 0.0, 0.0, ...  \n",
       "2    [0.0, 0.0, 0.0, 0.0, 0.0, 0.0, 0.0, 0.0, 0.0, ...  \n",
       "3    [0.0, 0.0, 0.0, 0.0, 0.0, 0.0, 0.0, 0.0, 0.0, ...  \n",
       "4    [0.0, 0.0, 0.0, 0.0, 0.0, 0.0, 0.0, 0.0, 0.0, ...  \n",
       "..                                                 ...  \n",
       "995  [0.0, 0.0, 0.0, 0.0, 0.0, 0.0, 0.0, 0.0, 0.0, ...  \n",
       "996  [0.0, 0.0, 0.0, 0.0, 0.0, 0.0, 0.0, 0.0, 0.0, ...  \n",
       "997  [0.0, 0.0, 0.0, 0.0, 0.0, 0.0, 0.0, 0.0, 0.0, ...  \n",
       "998  [0.0, 0.0, 0.0, 0.0, 0.0, 0.0, 0.0, 0.0, 0.0, ...  \n",
       "999  [0.0, 0.0, 0.0, 0.0, 0.0, 0.0, 0.0, 0.0, 0.0, ...  \n",
       "\n",
       "[1000 rows x 3 columns]"
      ]
     },
     "execution_count": 91,
     "metadata": {},
     "output_type": "execute_result"
    }
   ],
   "source": [
    "df"
   ]
  },
  {
   "cell_type": "code",
   "execution_count": 98,
   "metadata": {},
   "outputs": [],
   "source": []
  },
  {
   "cell_type": "code",
   "execution_count": null,
   "metadata": {},
   "outputs": [],
   "source": []
  },
  {
   "cell_type": "code",
   "execution_count": null,
   "metadata": {},
   "outputs": [],
   "source": []
  }
 ],
 "metadata": {
  "kernelspec": {
   "display_name": "venv",
   "language": "python",
   "name": "venv"
  },
  "language_info": {
   "codemirror_mode": {
    "name": "ipython",
    "version": 3
   },
   "file_extension": ".py",
   "mimetype": "text/x-python",
   "name": "python",
   "nbconvert_exporter": "python",
   "pygments_lexer": "ipython3",
   "version": "3.10.8"
  },
  "orig_nbformat": 4
 },
 "nbformat": 4,
 "nbformat_minor": 2
}
